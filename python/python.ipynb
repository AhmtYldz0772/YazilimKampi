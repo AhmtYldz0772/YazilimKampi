{
 "cells": [
  {
   "cell_type": "code",
   "execution_count": 1,
   "id": "42d635a2",
   "metadata": {},
   "outputs": [
    {
     "name": "stdout",
     "output_type": "stream",
     "text": [
      "değer gir0.25\n"
     ]
    },
    {
     "ename": "ValueError",
     "evalue": "invalid literal for int() with base 10: '0.25'",
     "output_type": "error",
     "traceback": [
      "\u001b[1;31m---------------------------------------------------------------------------\u001b[0m",
      "\u001b[1;31mValueError\u001b[0m                                Traceback (most recent call last)",
      "\u001b[1;32m~\\AppData\\Local\\Temp/ipykernel_1628/3786337628.py\u001b[0m in \u001b[0;36m<module>\u001b[1;34m\u001b[0m\n\u001b[1;32m----> 1\u001b[1;33m \u001b[0mx\u001b[0m \u001b[1;33m=\u001b[0m \u001b[0mint\u001b[0m\u001b[1;33m(\u001b[0m\u001b[0minput\u001b[0m\u001b[1;33m(\u001b[0m\u001b[1;34m\"değer gir\"\u001b[0m\u001b[1;33m)\u001b[0m\u001b[1;33m)\u001b[0m\u001b[1;33m\u001b[0m\u001b[1;33m\u001b[0m\u001b[0m\n\u001b[0m\u001b[0;32m      2\u001b[0m \u001b[0mprint\u001b[0m\u001b[1;33m(\u001b[0m\u001b[0mx\u001b[0m\u001b[1;33m*\u001b[0m\u001b[1;36m4\u001b[0m\u001b[1;33m)\u001b[0m\u001b[1;33m\u001b[0m\u001b[1;33m\u001b[0m\u001b[0m\n",
      "\u001b[1;31mValueError\u001b[0m: invalid literal for int() with base 10: '0.25'"
     ]
    }
   ],
   "source": [
    "x = int(input(\"değer gir\"))\n",
    "print(x*4)"
   ]
  },
  {
   "cell_type": "code",
   "execution_count": 2,
   "id": "90a3f0e3",
   "metadata": {},
   "outputs": [
    {
     "data": {
      "text/plain": [
       "True"
      ]
     },
     "execution_count": 2,
     "metadata": {},
     "output_type": "execute_result"
    }
   ],
   "source": [
    "x=int(float(\"3.9\"))\n",
    "\n",
    "y=3\n",
    "\n",
    "x==y"
   ]
  },
  {
   "cell_type": "code",
   "execution_count": 3,
   "id": "9ae2857b",
   "metadata": {},
   "outputs": [
    {
     "name": "stdout",
     "output_type": "stream",
     "text": [
      "merhaba\n"
     ]
    },
    {
     "ename": "TypeError",
     "evalue": "unsupported operand type(s) for &: 'bool' and 'NoneType'",
     "output_type": "error",
     "traceback": [
      "\u001b[1;31m---------------------------------------------------------------------------\u001b[0m",
      "\u001b[1;31mTypeError\u001b[0m                                 Traceback (most recent call last)",
      "\u001b[1;32m~\\AppData\\Local\\Temp/ipykernel_1628/1029329894.py\u001b[0m in \u001b[0;36m<module>\u001b[1;34m\u001b[0m\n\u001b[1;32m----> 1\u001b[1;33m \u001b[1;33m(\u001b[0m\u001b[1;36m2\u001b[0m\u001b[1;33m==\u001b[0m\u001b[1;36m2\u001b[0m\u001b[1;33m)\u001b[0m \u001b[1;33m&\u001b[0m \u001b[0mprint\u001b[0m\u001b[1;33m(\u001b[0m\u001b[1;34m\"merhaba\"\u001b[0m\u001b[1;33m)\u001b[0m\u001b[1;33m\u001b[0m\u001b[1;33m\u001b[0m\u001b[0m\n\u001b[0m",
      "\u001b[1;31mTypeError\u001b[0m: unsupported operand type(s) for &: 'bool' and 'NoneType'"
     ]
    }
   ],
   "source": [
    "(2==2) & print(\"merhaba\") \n"
   ]
  },
  {
   "cell_type": "code",
   "execution_count": 4,
   "id": "3c3792e9",
   "metadata": {},
   "outputs": [
    {
     "data": {
      "text/plain": [
       "(5, 5)"
      ]
     },
     "execution_count": 4,
     "metadata": {},
     "output_type": "execute_result"
    }
   ],
   "source": [
    "x=5\n",
    "\n",
    "y=7\n",
    "\n",
    "temp=x\n",
    "\n",
    "y=temp\n",
    "\n",
    "(x,y)\n"
   ]
  },
  {
   "cell_type": "code",
   "execution_count": 7,
   "id": "ddf89aa0",
   "metadata": {},
   "outputs": [
    {
     "ename": "NameError",
     "evalue": "name 'kisi1' is not defined",
     "output_type": "error",
     "traceback": [
      "\u001b[1;31m---------------------------------------------------------------------------\u001b[0m",
      "\u001b[1;31mNameError\u001b[0m                                 Traceback (most recent call last)",
      "\u001b[1;32m~\\AppData\\Local\\Temp/ipykernel_1628/3596180010.py\u001b[0m in \u001b[0;36m<module>\u001b[1;34m\u001b[0m\n\u001b[1;32m----> 1\u001b[1;33m \u001b[0mmailler\u001b[0m\u001b[1;33m=\u001b[0m\u001b[1;33m{\u001b[0m\u001b[0mkisi1\u001b[0m\u001b[1;33m:\u001b[0m\u001b[1;34m\"ad1.soyad1@gmail.com\"\u001b[0m\u001b[1;33m,\u001b[0m\u001b[0mkisi2\u001b[0m\u001b[1;33m:\u001b[0m\u001b[1;34m\"ad2.soyad2@gmail.com\"\u001b[0m\u001b[1;33m,\u001b[0m\u001b[0mkisi3\u001b[0m\u001b[1;33m:\u001b[0m\u001b[1;34m\"ad3.soyad3@gmail.com\"\u001b[0m\u001b[1;33m}\u001b[0m\u001b[1;33m\u001b[0m\u001b[1;33m\u001b[0m\u001b[0m\n\u001b[0m\u001b[0;32m      2\u001b[0m \u001b[0ml\u001b[0m\u001b[1;33m=\u001b[0m\u001b[1;33m[\u001b[0m\u001b[1;33m]\u001b[0m\u001b[1;33m\u001b[0m\u001b[1;33m\u001b[0m\u001b[0m\n\u001b[0;32m      3\u001b[0m \u001b[1;33m\u001b[0m\u001b[0m\n\u001b[0;32m      4\u001b[0m \u001b[1;32mfor\u001b[0m \u001b[0mv\u001b[0m \u001b[1;32min\u001b[0m \u001b[0mmailler\u001b[0m\u001b[1;33m.\u001b[0m\u001b[0mvalues\u001b[0m\u001b[1;33m(\u001b[0m\u001b[1;33m)\u001b[0m\u001b[1;33m:\u001b[0m\u001b[1;33m\u001b[0m\u001b[1;33m\u001b[0m\u001b[0m\n\u001b[0;32m      5\u001b[0m \u001b[1;33m\u001b[0m\u001b[0m\n",
      "\u001b[1;31mNameError\u001b[0m: name 'kisi1' is not defined"
     ]
    }
   ],
   "source": [
    "mailler={kisi1:\"ad1.soyad1@gmail.com\",kisi2:\"ad2.soyad2@gmail.com\",kisi3:\"ad3.soyad3@gmail.com\"}\n",
    "l=[]\n",
    "\n",
    "for v in mailler.values():\n",
    "\n",
    "    l.append(v)"
   ]
  },
  {
   "cell_type": "code",
   "execution_count": 8,
   "id": "bb48604b",
   "metadata": {},
   "outputs": [
    {
     "name": "stdout",
     "output_type": "stream",
     "text": [
      "[4, 8, 15, 16]\n"
     ]
    }
   ],
   "source": [
    "*x,y,z=(4,8,15,16,23,42)\n",
    "\n",
    "print(x)"
   ]
  },
  {
   "cell_type": "code",
   "execution_count": 12,
   "id": "24fe03da",
   "metadata": {},
   "outputs": [
    {
     "name": "stdout",
     "output_type": "stream",
     "text": [
      "Sonuc:  25\n",
      "35\n"
     ]
    }
   ],
   "source": [
    "x=7\n",
    "def f(x):\n",
    "  res=5\n",
    "  res*=res\n",
    "  if x%2==0:\n",
    "    print(\"Sonuc:\",res)\n",
    "    return res\n",
    "  else:\n",
    "    print(\"Sonuc: \",res)\n",
    "  \n",
    "    return res+10\n",
    "print(f(x))"
   ]
  },
  {
   "cell_type": "code",
   "execution_count": 13,
   "id": "bc25d937",
   "metadata": {},
   "outputs": [
    {
     "name": "stdout",
     "output_type": "stream",
     "text": [
      "[[7, 6, 5], [4, 3], [2, 1]]\n"
     ]
    }
   ],
   "source": [
    "def flatten_list(lst):\n",
    "    flattened = []\n",
    "    for item in lst:\n",
    "        if isinstance(item, list):\n",
    "            flattened.extend(flatten_list(item))\n",
    "        else:\n",
    "            flattened.append(item)\n",
    "    return flattened\n",
    "\n",
    "def reverse_list(lst):\n",
    "    reversed_lst = []\n",
    "    for item in lst[::-1]:\n",
    "        if isinstance(item, list):\n",
    "            reversed_lst.append(reverse_list(item))\n",
    "        else:\n",
    "            reversed_lst.append(item)\n",
    "    return reversed_lst\n",
    "\n",
    "input_list = [[1, 2], [3, 4], [5, 6, 7]]\n",
    "output_list = reverse_list(input_list)\n",
    "print(output_list)"
   ]
  },
  {
   "cell_type": "code",
   "execution_count": null,
   "id": "3cec27db",
   "metadata": {},
   "outputs": [],
   "source": []
  }
 ],
 "metadata": {
  "kernelspec": {
   "display_name": "Python 3 (ipykernel)",
   "language": "python",
   "name": "python3"
  },
  "language_info": {
   "codemirror_mode": {
    "name": "ipython",
    "version": 3
   },
   "file_extension": ".py",
   "mimetype": "text/x-python",
   "name": "python",
   "nbconvert_exporter": "python",
   "pygments_lexer": "ipython3",
   "version": "3.9.7"
  }
 },
 "nbformat": 4,
 "nbformat_minor": 5
}
